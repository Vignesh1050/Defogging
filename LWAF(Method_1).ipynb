{
 "cells": [
  {
   "cell_type": "code",
   "execution_count": null,
   "id": "7b4e84f8-742f-491b-b876-2abf757a1cff",
   "metadata": {},
   "outputs": [],
   "source": [
    "import cv2\n",
    "import numpy as np\n",
    "\n",
    "def estimate_veiling(image):\n",
    "    dark_prior = np.min(image, axis=2)\n",
    "    veiling = 1 - dark_prior / 255  # \n",
    "    cv2.imshow('Estimated Veiling', (veiling * 255).astype(np.uint8))\n",
    "    cv2.waitKey(0)\n",
    "    return veiling\n",
    "def adaptive_wiener_filter(observation, local_mean, local_variance, noise_variance):\n",
    "    refined_estimate = local_mean + ((local_variance - noise_variance) / local_variance) * (observation - local_mean)\n",
    "    return refined_estimate\n",
    "def calculate_local_variance(image, window_size):\n",
    "    height, width = image.shape\n",
    "    pad = window_size // 2\n",
    "    padded_image = cv2.copyMakeBorder(image, pad, pad, pad, pad, cv2.BORDER_REFLECT)\n",
    "    local_variance = np.zeros_like(image, dtype=np.float32)\n",
    "    for y in range(pad, height + pad):\n",
    "        for x in range(pad, width + pad):\n",
    "            window = padded_image[y - pad:y + pad + 1, x - pad:x + pad + 1]\n",
    "            local_mean = np.mean(window)\n",
    "            local_variance[y - pad, x - pad] = np.mean((window - local_mean) ** 2)\n",
    "    return local_variance\n",
    "def estimate_noise_variance(image):\n",
    "    observation_variances = np.var(image, axis=(0, 1))\n",
    "    noise_variance = np.mean(observation_variances) / (image.shape[0] * image.shape[1])    \n",
    "    return noise_variance\n",
    "def defog_image(image, veiling, noise_variance):\n",
    "    window_size = 32\n",
    "    local_mean = cv2.blur(veiling, (window_size, window_size))\n",
    "    local_variance = calculate_local_variance(veiling, window_size)\n",
    "    refined_veiling = adaptive_wiener_filter(veiling, local_mean, local_variance, noise_variance)\n",
    "    cv2.imshow('Refined Veiling Estimate', (refined_veiling * 255).astype(np.uint8))\n",
    "    cv2.waitKey(0)\n",
    "    transmission = 1 - refined_veiling\n",
    "    cv2.imshow('Transmission Map', (transmission * 255).astype(np.uint8))\n",
    "    cv2.waitKey(0)\n",
    "    defogged_image = (image - transmission[..., None] * 255) / np.maximum(transmission[..., None], 0.01) + transmission[..., None] * 255\n",
    "    defogged_image = np.clip(defogged_image, 0, 255).astype(np.uint8)\n",
    "    cv2.imshow('Defogged Image', defogged_image)\n",
    "    cv2.waitKey(0)\n",
    "    return defogged_image\n",
    "\n",
    "foggy_image = cv2.imread('F1.png')\n",
    "cv2.imshow('Foggy Image', foggy_image)\n",
    "cv2.waitKey(0)\n",
    "# Estimate veiling from the foggy image\n",
    "veiling_estimate = estimate_veiling(foggy_image)\n",
    "# Decompose the foggy image into low and high-resolution components\n",
    "low_res_image = cv2.pyrDown(foggy_image)\n",
    "high_res_image = foggy_image - cv2.pyrUp(low_res_image)\n",
    "# Estimate noise variance using the low-resolution component\n",
    "noise_variance = estimate_noise_variance(low_res_image)\n",
    "# Defog the image with the estimated veiling and noise variance\n",
    "defogged_image = defog_image(foggy_image, veiling_estimate, noise_variance)\n",
    "\n",
    "cv2.destroyAllWindows()"
   ]
  },
  {
   "cell_type": "code",
   "execution_count": null,
   "id": "fbc01278-e0f3-47f4-95cb-cc6df57aaf4e",
   "metadata": {},
   "outputs": [],
   "source": []
  }
 ],
 "metadata": {
  "kernelspec": {
   "display_name": "Python 3 (ipykernel)",
   "language": "python",
   "name": "python3"
  },
  "language_info": {
   "codemirror_mode": {
    "name": "ipython",
    "version": 3
   },
   "file_extension": ".py",
   "mimetype": "text/x-python",
   "name": "python",
   "nbconvert_exporter": "python",
   "pygments_lexer": "ipython3",
   "version": "3.12.1"
  }
 },
 "nbformat": 4,
 "nbformat_minor": 5
}
