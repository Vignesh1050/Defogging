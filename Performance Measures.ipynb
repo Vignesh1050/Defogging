{
 "cells": [
  {
   "cell_type": "code",
   "execution_count": 3,
   "id": "c1e0abc5-1bd8-42c0-8442-e33d24f42d9d",
   "metadata": {},
   "outputs": [
    {
     "name": "stdout",
     "output_type": "stream",
     "text": [
      "Image: F1.png\n",
      "PSNR: 14.38277644417157\n",
      "SSIM: 0.8797110690173499\n",
      "==============================\n",
      "Image: F2.png\n",
      "PSNR: 9.281604408149013\n",
      "SSIM: 0.5197404992148673\n",
      "==============================\n",
      "Image: F3.png\n",
      "PSNR: 12.69272258534168\n",
      "SSIM: 0.633254256186244\n",
      "==============================\n",
      "Image: F4.png\n",
      "PSNR: 10.83867879557252\n",
      "SSIM: 0.7484719920012413\n",
      "==============================\n",
      "Image: F5.png\n",
      "PSNR: 9.224282196784676\n",
      "SSIM: 0.6890088251470291\n",
      "==============================\n"
     ]
    }
   ],
   "source": [
    "import os\n",
    "import cv2\n",
    "from skimage.metrics import peak_signal_noise_ratio as psnr\n",
    "from skimage.metrics import structural_similarity as ssim\n",
    "\n",
    "def calculate_metrics(input_folder, processed_folder):\n",
    "    input_images = os.listdir(input_folder)\n",
    "    processed_images = os.listdir(processed_folder)\n",
    "    input_images.sort()\n",
    "    processed_images.sort()  \n",
    "    for input_image_name, processed_image_name in zip(input_images, processed_images):\n",
    "        input_image_path = os.path.join(input_folder, input_image_name)\n",
    "        processed_image_path = os.path.join(processed_folder, processed_image_name)      \n",
    "        input_image = cv2.imread(input_image_path)\n",
    "        processed_image = cv2.imread(processed_image_path)\n",
    "        input_image = cv2.resize(input_image, (processed_image.shape[1], processed_image.shape[0]))\n",
    "        input_gray = cv2.cvtColor(input_image, cv2.COLOR_BGR2GRAY)\n",
    "        processed_gray = cv2.cvtColor(processed_image, cv2.COLOR_BGR2GRAY)\n",
    "        \n",
    "        # Calculate PSNR\n",
    "        psnr_value = psnr(input_gray, processed_gray)\n",
    "        \n",
    "        # Calculate SSIM\n",
    "        ssim_value, _ = ssim(input_gray, processed_gray, full=True)\n",
    "        \n",
    "        print(f\"Image: {input_image_name}\")\n",
    "        print(\"PSNR:\", psnr_value)\n",
    "        print(\"SSIM:\", ssim_value)\n",
    "        print(\"=\"*30)\n",
    "\n",
    "input_folder = \"Foggy Images\"\n",
    "processed_folder = \"output7\"\n",
    "calculate_metrics(input_folder, processed_folder)\n",
    "\n"
   ]
  },
  {
   "cell_type": "code",
   "execution_count": null,
   "id": "14108109-fada-419a-ac2f-511f21f78cca",
   "metadata": {},
   "outputs": [],
   "source": []
  },
  {
   "cell_type": "code",
   "execution_count": null,
   "id": "e7e477ef-3b03-4519-8753-c32c96ac8fe6",
   "metadata": {},
   "outputs": [],
   "source": []
  },
  {
   "cell_type": "code",
   "execution_count": null,
   "id": "93cb2f7c-0006-4304-a559-f7a37a846cce",
   "metadata": {},
   "outputs": [],
   "source": []
  }
 ],
 "metadata": {
  "kernelspec": {
   "display_name": "Python 3 (ipykernel)",
   "language": "python",
   "name": "python3"
  },
  "language_info": {
   "codemirror_mode": {
    "name": "ipython",
    "version": 3
   },
   "file_extension": ".py",
   "mimetype": "text/x-python",
   "name": "python",
   "nbconvert_exporter": "python",
   "pygments_lexer": "ipython3",
   "version": "3.12.1"
  }
 },
 "nbformat": 4,
 "nbformat_minor": 5
}
